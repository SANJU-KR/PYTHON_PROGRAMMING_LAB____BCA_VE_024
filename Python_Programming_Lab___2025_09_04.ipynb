{
  "cells": [
    {
      "cell_type": "markdown",
      "metadata": {
        "id": "view-in-github",
        "colab_type": "text"
      },
      "source": [
        "<a href=\"https://colab.research.google.com/github/SANJU-KR/PYTHON_PROGRAMMING_LAB____BCA_VE_024/blob/main/Python_Programming_Lab___2025_09_04.ipynb\" target=\"_parent\"><img src=\"https://colab.research.google.com/assets/colab-badge.svg\" alt=\"Open In Colab\"/></a>"
      ]
    },
    {
      "cell_type": "markdown",
      "id": "4dbea13d-894a-48ee-8cdf-03c2028e2544",
      "metadata": {
        "id": "4dbea13d-894a-48ee-8cdf-03c2028e2544"
      },
      "source": [
        "*04 Sep 2025 Python Programming Lab**"
      ]
    },
    {
      "cell_type": "code",
      "execution_count": null,
      "id": "09b95ca4-04ba-4a09-9f85-bdc4846bf3b4",
      "metadata": {
        "id": "09b95ca4-04ba-4a09-9f85-bdc4846bf3b4",
        "outputId": "2396e005-54b5-45c9-db0a-e9c2259e6c43"
      },
      "outputs": [
        {
          "name": "stdin",
          "output_type": "stream",
          "text": [
            "Enter elements of list separated by space:  Sanju Nishu Aryan\n"
          ]
        },
        {
          "name": "stdout",
          "output_type": "stream",
          "text": [
            "List: ['Sanju', 'Nishu', 'Aryan']\n"
          ]
        }
      ],
      "source": [
        "# Q1: Create and display a list based on user input\n",
        "lst = input(\"Enter elements of list separated by space: \").split()\n",
        "print(\"List:\", lst)"
      ]
    },
    {
      "cell_type": "code",
      "execution_count": null,
      "id": "9bacf655-a71d-4a73-bf17-b28b958e2f5a",
      "metadata": {
        "id": "9bacf655-a71d-4a73-bf17-b28b958e2f5a",
        "outputId": "ecfad86f-e244-4a97-d662-66bd30758807"
      },
      "outputs": [
        {
          "name": "stdin",
          "output_type": "stream",
          "text": [
            "Enter elements of list separated by space:  10 20 360 365\n"
          ]
        },
        {
          "name": "stdout",
          "output_type": "stream",
          "text": [
            "Length of list: 4\n"
          ]
        }
      ],
      "source": [
        "# Q2: Find length of a list based on user input\n",
        "lst = input(\"Enter elements of list separated by space: \").split()\n",
        "print(\"Length of list:\", len(lst))"
      ]
    },
    {
      "cell_type": "code",
      "execution_count": null,
      "id": "13aad516-6bda-4d77-92cf-f17be81092c2",
      "metadata": {
        "id": "13aad516-6bda-4d77-92cf-f17be81092c2",
        "outputId": "1910edac-a544-4ba2-d6f0-10c8489db2ae"
      },
      "outputs": [
        {
          "name": "stdin",
          "output_type": "stream",
          "text": [
            "Enter elements of list separated by space:  A B C D E F\n",
            "Enter index to access:  2\n",
            "Enter start index for slicing:  1\n",
            "Enter end index for slicing (exclusive):  4\n"
          ]
        },
        {
          "name": "stdout",
          "output_type": "stream",
          "text": [
            "Element at index 2 : C\n",
            "Sliced list: ['B', 'C', 'D']\n"
          ]
        }
      ],
      "source": [
        "# Q3: Access elements using indexing and slicing\n",
        "lst = input(\"Enter elements of list separated by space: \").split()\n",
        "index = int(input(\"Enter index to access: \"))\n",
        "start = int(input(\"Enter start index for slicing: \"))\n",
        "end = int(input(\"Enter end index for slicing (exclusive): \"))\n",
        "print(\"Element at index\", index, \":\", lst[index])\n",
        "print(\"Sliced list:\", lst[start:end])"
      ]
    },
    {
      "cell_type": "code",
      "execution_count": null,
      "id": "3ba68af8-0181-4f09-b438-624fa3ea307c",
      "metadata": {
        "id": "3ba68af8-0181-4f09-b438-624fa3ea307c",
        "outputId": "07369e35-b7fe-49fd-e36d-1664e44fe45c"
      },
      "outputs": [
        {
          "name": "stdin",
          "output_type": "stream",
          "text": [
            "Enter elements of list separated by space:  BMW\n",
            "Enter element to append:  Audi\n"
          ]
        },
        {
          "name": "stdout",
          "output_type": "stream",
          "text": [
            "List after append: ['BMW', 'Audi']\n"
          ]
        }
      ],
      "source": [
        "# Q4: Add an element at the end of a list using append()\n",
        "lst = input(\"Enter elements of list separated by space: \").split()\n",
        "elem = input(\"Enter element to append: \")\n",
        "lst.append(elem)\n",
        "print(\"List after append:\", lst)"
      ]
    },
    {
      "cell_type": "code",
      "execution_count": null,
      "id": "4cecc860-205d-41d3-bded-e6fed38cf694",
      "metadata": {
        "id": "4cecc860-205d-41d3-bded-e6fed38cf694",
        "outputId": "bba874ff-c829-4a2d-e415-422d861e0cc7"
      },
      "outputs": [
        {
          "name": "stdin",
          "output_type": "stream",
          "text": [
            "Enter elements of list separated by space:  9 8 7 41\n",
            "Enter position to insert at:  2\n",
            "Enter element to insert:  1\n"
          ]
        },
        {
          "name": "stdout",
          "output_type": "stream",
          "text": [
            "List after insert: ['9', '8', '1', '7', '41']\n"
          ]
        }
      ],
      "source": [
        "# Q5: Insert an element at a specific position\n",
        "lst = input(\"Enter elements of list separated by space: \").split()\n",
        "pos = int(input(\"Enter position to insert at: \"))\n",
        "elem = input(\"Enter element to insert: \")\n",
        "lst.insert(pos, elem)\n",
        "print(\"List after insert:\", lst)"
      ]
    },
    {
      "cell_type": "code",
      "execution_count": null,
      "id": "ac85aaa4-e2e6-4f81-ba35-938c0200bc7f",
      "metadata": {
        "id": "ac85aaa4-e2e6-4f81-ba35-938c0200bc7f",
        "outputId": "c211db3b-2364-48db-b6e9-1494190706d8"
      },
      "outputs": [
        {
          "name": "stdin",
          "output_type": "stream",
          "text": [
            "Enter elements of list separated by space:  Red Pink Blue Orange\n",
            "Enter element to remove:  Red\n"
          ]
        },
        {
          "name": "stdout",
          "output_type": "stream",
          "text": [
            "List after removal: ['Pink', 'Blue', 'Orange']\n"
          ]
        }
      ],
      "source": [
        "# Q6: Remove an element from a list\n",
        "lst = input(\"Enter elements of list separated by space: \").split()\n",
        "elem = input(\"Enter element to remove: \")\n",
        "if elem in lst:\n",
        "    lst.remove(elem)\n",
        "    print(\"List after removal:\", lst)\n",
        "else:\n",
        "    print(\"Element not found in list.\")"
      ]
    },
    {
      "cell_type": "code",
      "execution_count": null,
      "id": "82abd152-737b-485f-b41e-8858ceb903f2",
      "metadata": {
        "id": "82abd152-737b-485f-b41e-8858ceb903f2",
        "outputId": "b07bf4cb-d4f4-4f90-c775-ec28b6247982"
      },
      "outputs": [
        {
          "name": "stdin",
          "output_type": "stream",
          "text": [
            "Enter elements of list separated by space:  100 203 520 963\n",
            "Enter 'asc' for ascending or 'desc' for descending sort:  asc\n"
          ]
        },
        {
          "name": "stdout",
          "output_type": "stream",
          "text": [
            "Sorted list: [100, 203, 520, 963]\n"
          ]
        }
      ],
      "source": [
        "# Q7: Sort a list in ascending or descending order\n",
        "lst = input(\"Enter elements of list separated by space: \").split()\n",
        "order = input(\"Enter 'asc' for ascending or 'desc' for descending sort: \").lower()\n",
        "\n",
        "try:\n",
        "    lst = [int(x) for x in lst]  # convert to int if possible\n",
        "except:\n",
        "    pass  # leave as strings if conversion fails\n",
        "\n",
        "if order == 'asc':\n",
        "    lst.sort()\n",
        "elif order == 'desc':\n",
        "    lst.sort(reverse=True)\n",
        "else:\n",
        "    print(\"Invalid order choice.\")\n",
        "\n",
        "print(\"Sorted list:\", lst)"
      ]
    },
    {
      "cell_type": "code",
      "execution_count": null,
      "id": "659c03b2-fd71-40da-9405-1e5a483d85df",
      "metadata": {
        "id": "659c03b2-fd71-40da-9405-1e5a483d85df",
        "outputId": "d50e8d65-339a-46b0-d590-54d50a65684c"
      },
      "outputs": [
        {
          "name": "stdin",
          "output_type": "stream",
          "text": [
            "Enter elements of list separated by space:  100 203 520 963\n",
            "Enter 'asc' for ascending or 'desc' for descending sort:  desc\n"
          ]
        },
        {
          "name": "stdout",
          "output_type": "stream",
          "text": [
            "Sorted list: [963, 520, 203, 100]\n"
          ]
        }
      ],
      "source": [
        "# Q7: Sort a list in ascending or descending order\n",
        "lst = input(\"Enter elements of list separated by space: \").split()\n",
        "order = input(\"Enter 'asc' for ascending or 'desc' for descending sort: \").lower()\n",
        "\n",
        "try:\n",
        "    lst = [int(x) for x in lst]  # convert to int if possible\n",
        "except:\n",
        "    pass  # leave as strings if conversion fails\n",
        "\n",
        "if order == 'asc':\n",
        "    lst.sort()\n",
        "elif order == 'desc':\n",
        "    lst.sort(reverse=True)\n",
        "else:\n",
        "    print(\"Invalid order choice.\")\n",
        "\n",
        "print(\"Sorted list:\", lst)"
      ]
    },
    {
      "cell_type": "code",
      "execution_count": null,
      "id": "8cd89010-eca4-46b6-ac20-3b980e65c038",
      "metadata": {
        "id": "8cd89010-eca4-46b6-ac20-3b980e65c038",
        "outputId": "ead470aa-0b11-4968-e5ba-c6bbd7008992"
      },
      "outputs": [
        {
          "name": "stdin",
          "output_type": "stream",
          "text": [
            "Enter elements of list separated by space:  1 4 7 8 5\n"
          ]
        },
        {
          "name": "stdout",
          "output_type": "stream",
          "text": [
            "Maximum element: 8\n",
            "Minimum element: 1\n"
          ]
        }
      ],
      "source": [
        "# Q8: Find maximum and minimum element in a list\n",
        "lst = input(\"Enter elements of list separated by space: \").split()\n",
        "\n",
        "try:\n",
        "    lst = [int(x) for x in lst]\n",
        "    print(\"Maximum element:\", max(lst))\n",
        "    print(\"Minimum element:\", min(lst))\n",
        "except:\n",
        "    print(\"List contains non-numeric elements; cannot find max/min.\")"
      ]
    },
    {
      "cell_type": "code",
      "execution_count": null,
      "id": "bccf4405-07aa-4cb6-a986-7a493ca7ac0e",
      "metadata": {
        "id": "bccf4405-07aa-4cb6-a986-7a493ca7ac0e",
        "outputId": "2f53d0b4-3ac0-4a9a-af6c-5d54a8fbf62d"
      },
      "outputs": [
        {
          "name": "stdin",
          "output_type": "stream",
          "text": [
            "Enter numeric elements of list separated by space:  1.362 6.321 55\n"
          ]
        },
        {
          "name": "stdout",
          "output_type": "stream",
          "text": [
            "Sum of elements: 62.683\n"
          ]
        }
      ],
      "source": [
        "# Q9: Find the sum of all elements in a numeric list\n",
        "lst = input(\"Enter numeric elements of list separated by space: \").split()\n",
        "try:\n",
        "    lst = [float(x) for x in lst]\n",
        "    print(\"Sum of elements:\", sum(lst))\n",
        "except:\n",
        "    print(\"Invalid input: enter only numeric values.\")"
      ]
    },
    {
      "cell_type": "code",
      "execution_count": null,
      "id": "127ac645-877b-4ff4-bd54-a94b74e2cc1a",
      "metadata": {
        "id": "127ac645-877b-4ff4-bd54-a94b74e2cc1a",
        "outputId": "37a70f59-f392-42f9-e03e-6d2ff230bc6b"
      },
      "outputs": [
        {
          "name": "stdin",
          "output_type": "stream",
          "text": [
            "Enter elements of list separated by space:  Nishu Aryan Sanju\n"
          ]
        },
        {
          "name": "stdout",
          "output_type": "stream",
          "text": [
            "Reversed list: ['Sanju', 'Aryan', 'Nishu']\n"
          ]
        }
      ],
      "source": [
        "# Q10: Reverse a list\n",
        "lst = input(\"Enter elements of list separated by space: \").split()\n",
        "lst.reverse()\n",
        "print(\"Reversed list:\", lst)"
      ]
    },
    {
      "cell_type": "code",
      "execution_count": null,
      "id": "ae7a67b3-5f33-4aaf-8f41-77c829333b5b",
      "metadata": {
        "id": "ae7a67b3-5f33-4aaf-8f41-77c829333b5b",
        "outputId": "c367b83a-eba0-41da-cd5c-1e85c55bc511"
      },
      "outputs": [
        {
          "name": "stdin",
          "output_type": "stream",
          "text": [
            "Enter elements of list separated by space:  BMW Audi Jaguar BMW\n",
            "Enter element to count:  BMW\n"
          ]
        },
        {
          "name": "stdout",
          "output_type": "stream",
          "text": [
            "Element 'BMW' occurs 2 time(s) in the list.\n"
          ]
        }
      ],
      "source": [
        "# Q11: Count occurrences of an element in a list\n",
        "lst = input(\"Enter elements of list separated by space: \").split()\n",
        "elem = input(\"Enter element to count: \")\n",
        "count = lst.count(elem)\n",
        "print(f\"Element '{elem}' occurs {count} time(s) in the list.\")"
      ]
    },
    {
      "cell_type": "code",
      "execution_count": null,
      "id": "f8f6593e-af51-43e2-b0c0-8bf4149f7bcc",
      "metadata": {
        "id": "f8f6593e-af51-43e2-b0c0-8bf4149f7bcc",
        "outputId": "477279cd-6258-4f12-dde3-5aa80950c5e4"
      },
      "outputs": [
        {
          "name": "stdin",
          "output_type": "stream",
          "text": [
            "Enter elements of list separated by space:  Delhi Kolkata Goa\n",
            "Enter element to check:  Goa\n"
          ]
        },
        {
          "name": "stdout",
          "output_type": "stream",
          "text": [
            "Element 'Goa' exists in the list.\n"
          ]
        }
      ],
      "source": [
        "# Q12: Check if an element exists in a list\n",
        "lst = input(\"Enter elements of list separated by space: \").split()\n",
        "elem = input(\"Enter element to check: \")\n",
        "if elem in lst:\n",
        "    print(f\"Element '{elem}' exists in the list.\")\n",
        "else:\n",
        "    print(f\"Element '{elem}' does not exist in the list.\")"
      ]
    },
    {
      "cell_type": "code",
      "execution_count": null,
      "id": "7bd6ff4c-1c20-442e-a117-74c67ef676bd",
      "metadata": {
        "id": "7bd6ff4c-1c20-442e-a117-74c67ef676bd",
        "outputId": "51b9e027-5046-413e-c278-18daaa9d75e0"
      },
      "outputs": [
        {
          "name": "stdin",
          "output_type": "stream",
          "text": [
            "Enter elements of list separated by space:  a v b b ds ds w\n"
          ]
        },
        {
          "name": "stdout",
          "output_type": "stream",
          "text": [
            "Set (duplicates removed): {'w', 'b', 'v', 'a', 'ds'}\n"
          ]
        }
      ],
      "source": [
        "# Q13: Convert a list into a set to remove duplicates\n",
        "lst = input(\"Enter elements of list separated by space: \").split()\n",
        "unique_set = set(lst)\n",
        "print(\"Set (duplicates removed):\", unique_set)"
      ]
    },
    {
      "cell_type": "code",
      "execution_count": null,
      "id": "6651e521-36d3-4bdb-94fc-c16c66a0bd5d",
      "metadata": {
        "id": "6651e521-36d3-4bdb-94fc-c16c66a0bd5d",
        "outputId": "8f155183-2896-4035-afe2-6d86af6c3da1"
      },
      "outputs": [
        {
          "name": "stdin",
          "output_type": "stream",
          "text": [
            "Enter elements of the first list separated by space:  1 2 3\n"
          ]
        },
        {
          "name": "stdout",
          "output_type": "stream",
          "text": [
            "First list: ['1', '2', '3']\n",
            "Copied list: ['1', '2', '3']\n"
          ]
        }
      ],
      "source": [
        "# Q14: Copy one list to another\n",
        "lst1 = input(\"Enter elements of the first list separated by space: \").split()\n",
        "lst2 = lst1.copy()\n",
        "print(\"First list:\", lst1)\n",
        "print(\"Copied list:\", lst2)"
      ]
    },
    {
      "cell_type": "code",
      "execution_count": null,
      "id": "b662fbc8-02e7-42f2-8df3-b5694372d4e9",
      "metadata": {
        "id": "b662fbc8-02e7-42f2-8df3-b5694372d4e9",
        "outputId": "695b5235-f882-40f9-fed0-d04cf08fce75"
      },
      "outputs": [
        {
          "name": "stdin",
          "output_type": "stream",
          "text": [
            "Enter elements of first list separated by space:  B M W \n",
            "Enter elements of second list separated by space:  M 5\n"
          ]
        },
        {
          "name": "stdout",
          "output_type": "stream",
          "text": [
            "Merged list: ['B', 'M', 'W', 'M', '5']\n"
          ]
        }
      ],
      "source": [
        "# Q15: Merge two lists into one\n",
        "lst1 = input(\"Enter elements of first list separated by space: \").split()\n",
        "lst2 = input(\"Enter elements of second list separated by space: \").split()\n",
        "merged = lst1 + lst2\n",
        "print(\"Merged list:\", merged)"
      ]
    }
  ],
  "metadata": {
    "kernelspec": {
      "display_name": "Python 3 (ipykernel)",
      "language": "python",
      "name": "python3"
    },
    "language_info": {
      "codemirror_mode": {
        "name": "ipython",
        "version": 3
      },
      "file_extension": ".py",
      "mimetype": "text/x-python",
      "name": "python",
      "nbconvert_exporter": "python",
      "pygments_lexer": "ipython3",
      "version": "3.12.4"
    },
    "colab": {
      "provenance": [],
      "include_colab_link": true
    }
  },
  "nbformat": 4,
  "nbformat_minor": 5
}