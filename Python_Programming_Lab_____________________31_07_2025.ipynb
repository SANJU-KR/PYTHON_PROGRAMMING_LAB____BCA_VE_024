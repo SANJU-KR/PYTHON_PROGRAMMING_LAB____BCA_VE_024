{
  "nbformat": 4,
  "nbformat_minor": 0,
  "metadata": {
    "colab": {
      "provenance": [],
      "authorship_tag": "ABX9TyMw0m2fH/ur56i49/7sA6BX",
      "include_colab_link": true
    },
    "kernelspec": {
      "name": "python3",
      "display_name": "Python 3"
    },
    "language_info": {
      "name": "python"
    }
  },
  "cells": [
    {
      "cell_type": "markdown",
      "metadata": {
        "id": "view-in-github",
        "colab_type": "text"
      },
      "source": [
        "<a href=\"https://colab.research.google.com/github/SANJU-KR/PYTHON_PROGRAMMING_LAB____BCA_VE_024/blob/main/Python_Programming_Lab_____________________31_07_2025.ipynb\" target=\"_parent\"><img src=\"https://colab.research.google.com/assets/colab-badge.svg\" alt=\"Open In Colab\"/></a>"
      ]
    },
    {
      "cell_type": "code",
      "execution_count": 1,
      "metadata": {
        "colab": {
          "base_uri": "https://localhost:8080/"
        },
        "id": "O67Cp0-lBUh9",
        "outputId": "b84043c5-c8f3-4877-899a-5b50d3fa4c99"
      },
      "outputs": [
        {
          "output_type": "stream",
          "name": "stdout",
          "text": [
            "Enter first number: 71.3\n",
            "Enter second number: 96.4\n",
            "The sum is: 167.7\n"
          ]
        }
      ],
      "source": [
        "# Write a program to add two numbers\n",
        "\n",
        "a = float(input(\"Enter first number: \"))\n",
        "b = float(input(\"Enter second number: \"))\n",
        "print(\"The sum is:\", a + b)"
      ]
    },
    {
      "cell_type": "code",
      "source": [
        "# Write a program to find maximum of two numbers\n",
        "\n",
        "a = float(input(\"Enter first number: \"))\n",
        "b = float(input(\"Enter second number: \"))\n",
        "print(\"The maximum is:\", max(a, b))"
      ],
      "metadata": {
        "colab": {
          "base_uri": "https://localhost:8080/"
        },
        "id": "MgcRiF_lCwP2",
        "outputId": "cd4c0c45-3695-4b20-8110-755649a851ef"
      },
      "execution_count": 2,
      "outputs": [
        {
          "output_type": "stream",
          "name": "stdout",
          "text": [
            "Enter first number: 63.6\n",
            "Enter second number: 98.6\n",
            "The maximum is: 98.6\n"
          ]
        }
      ]
    },
    {
      "cell_type": "code",
      "source": [
        "# Write a program to find simple interest\n",
        "\n",
        "p = float(input(\"Enter principal amount: \"))\n",
        "r = float(input(\"Enter rate of interest: \"))\n",
        "t = float(input(\"Enter time in years: \"))\n",
        "print(\"Simple Interest is:\", (p * r * t) / 100)"
      ],
      "metadata": {
        "colab": {
          "base_uri": "https://localhost:8080/"
        },
        "id": "lGF04bNmDE6P",
        "outputId": "e0d4bbd6-2d50-4e58-df89-87bc42a7f18c"
      },
      "execution_count": 3,
      "outputs": [
        {
          "output_type": "stream",
          "name": "stdout",
          "text": [
            "Enter principal amount: 23000.30\n",
            "Enter rate of interest: 6.53\n",
            "Enter time in years: 2\n",
            "Simple Interest is: 3003.83918\n"
          ]
        }
      ]
    },
    {
      "cell_type": "code",
      "source": [
        "# Write a program to find the area of circle\n",
        "\n",
        "import math\n",
        "r = float(input(\"Enter radius of the circle: \"))\n",
        "print(\"Area of circle is:\", math.pi * r * r)"
      ],
      "metadata": {
        "colab": {
          "base_uri": "https://localhost:8080/"
        },
        "id": "hfbNmUj3F7-W",
        "outputId": "e4dc911b-18d8-4b82-878d-0fb9c24ae8ea"
      },
      "execution_count": 12,
      "outputs": [
        {
          "output_type": "stream",
          "name": "stdout",
          "text": [
            "Enter radius of the circle: 23.3\n",
            "Area of circle is: 1705.5392357073629\n"
          ]
        }
      ]
    },
    {
      "cell_type": "code",
      "source": [
        "# Sum of squares of first n natural numbers\n",
        "\n",
        "n = int(input(\"Enter value of n: \"))\n",
        "print(\"Sum of squares is:\", n * (n + 1) * (2 * n + 1) // 6)"
      ],
      "metadata": {
        "colab": {
          "base_uri": "https://localhost:8080/"
        },
        "id": "aI66EaIcGDFp",
        "outputId": "7c67c709-48e7-430c-9c4b-d1cf0efd662a"
      },
      "execution_count": 13,
      "outputs": [
        {
          "output_type": "stream",
          "name": "stdout",
          "text": [
            "Enter value of n: 5\n",
            "Sum of squares is: 55\n"
          ]
        }
      ]
    },
    {
      "cell_type": "code",
      "source": [
        "# Cube sum of first n natural numbers\n",
        "\n",
        "n = int(input(\"Enter value of n: \"))\n",
        "print(\"Sum of cubes is:\", ((n * (n + 1)) // 2) ** 2)"
      ],
      "metadata": {
        "colab": {
          "base_uri": "https://localhost:8080/"
        },
        "id": "CB_HzCtMGvWv",
        "outputId": "5880ad48-7c77-4741-b770-932edd71f889"
      },
      "execution_count": 14,
      "outputs": [
        {
          "output_type": "stream",
          "name": "stdout",
          "text": [
            "Enter value of n: 5\n",
            "Sum of cubes is: 225\n"
          ]
        }
      ]
    }
  ]
}