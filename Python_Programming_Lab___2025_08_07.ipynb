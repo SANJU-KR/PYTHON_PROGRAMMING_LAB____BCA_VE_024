{
  "nbformat": 4,
  "nbformat_minor": 0,
  "metadata": {
    "colab": {
      "provenance": [],
      "authorship_tag": "ABX9TyNwQ72ZuwO3/4DAHmAFwpFL",
      "include_colab_link": true
    },
    "kernelspec": {
      "name": "python3",
      "display_name": "Python 3"
    },
    "language_info": {
      "name": "python"
    }
  },
  "cells": [
    {
      "cell_type": "markdown",
      "metadata": {
        "id": "view-in-github",
        "colab_type": "text"
      },
      "source": [
        "<a href=\"https://colab.research.google.com/github/SANJU-KR/PYTHON_PROGRAMMING_LAB____BCA_VE_024/blob/main/Python_Programming_Lab___2025_08_07.ipynb\" target=\"_parent\"><img src=\"https://colab.research.google.com/assets/colab-badge.svg\" alt=\"Open In Colab\"/></a>"
      ]
    },
    {
      "cell_type": "code",
      "execution_count": null,
      "metadata": {
        "colab": {
          "base_uri": "https://localhost:8080/"
        },
        "id": "mTuKPt2n1cwc",
        "outputId": "b9b6d059-5ceb-4913-8063-cac4e0e62f69"
      },
      "outputs": [
        {
          "output_type": "stream",
          "name": "stdout",
          "text": [
            "Enter first number: 11\n",
            "Enter second number: 22\n",
            "After swapping:\n",
            "First number: 22\n",
            "Second number: 11\n"
          ]
        }
      ],
      "source": [
        "# Write a program to Swap Two Numbers (Using Temp Variable)\n",
        "\n",
        "a = int(input(\"Enter first number: \"))\n",
        "b = int(input(\"Enter second number: \"))\n",
        "\n",
        "temp = a\n",
        "a = b\n",
        "b = temp\n",
        "\n",
        "print(\"After swapping:\")\n",
        "print(\"First number:\", a)\n",
        "print(\"Second number:\", b)"
      ]
    },
    {
      "cell_type": "code",
      "source": [
        "# Write a program to Print Table of a Number\n",
        "\n",
        "n = int(input(\"Enter a number: \"))\n",
        "\n",
        "print(f\"Table of {n}:\")\n",
        "for i in range(1, 11):\n",
        "    print(f\"{n} x {i} = {n * i}\")"
      ],
      "metadata": {
        "colab": {
          "base_uri": "https://localhost:8080/"
        },
        "id": "KpeHr9Qu2W_M",
        "outputId": "30472776-0ba4-4221-f9b0-efc77fc4ebe3"
      },
      "execution_count": null,
      "outputs": [
        {
          "output_type": "stream",
          "name": "stdout",
          "text": [
            "Enter a number: 10\n",
            "Table of 10:\n",
            "10 x 1 = 10\n",
            "10 x 2 = 20\n",
            "10 x 3 = 30\n",
            "10 x 4 = 40\n",
            "10 x 5 = 50\n",
            "10 x 6 = 60\n",
            "10 x 7 = 70\n",
            "10 x 8 = 80\n",
            "10 x 9 = 90\n",
            "10 x 10 = 100\n"
          ]
        }
      ]
    },
    {
      "cell_type": "code",
      "source": [
        "n = int(input(\"Enter a number: \"))\n",
        "fact = 1\n",
        "\n",
        "for i in range(1, n + 1):\n",
        "    fact *= i\n",
        "\n",
        "print(f\"Factorial of {n} is {fact}\")"
      ],
      "metadata": {
        "colab": {
          "base_uri": "https://localhost:8080/"
        },
        "id": "tNa_Xclo2fJr",
        "outputId": "142a4bb4-ed29-4a83-f5d0-afded33d115c"
      },
      "execution_count": null,
      "outputs": [
        {
          "output_type": "stream",
          "name": "stdout",
          "text": [
            "Enter a number: 5\n",
            "Factorial of 5 is 120\n"
          ]
        }
      ]
    },
    {
      "cell_type": "code",
      "source": [
        "# Write a program to Count Vowels in a String\n",
        "\n",
        "text = input(\"Enter a string: \")\n",
        "vowels = 'aeiouAEIOU'\n",
        "count = sum(1 for char in text if char in vowels)\n",
        "\n",
        "print(\"Number of vowels:\", count)"
      ],
      "metadata": {
        "colab": {
          "base_uri": "https://localhost:8080/"
        },
        "id": "51rQNgld2n_0",
        "outputId": "86a961dd-aba0-4ee6-b659-cd47bf6c5bff"
      },
      "execution_count": null,
      "outputs": [
        {
          "output_type": "stream",
          "name": "stdout",
          "text": [
            "Enter a string: Hello World\n",
            "Number of vowels: 3\n"
          ]
        }
      ]
    },
    {
      "cell_type": "code",
      "source": [
        "# Write a program to Check if a String is Palindrome\n",
        "\n",
        "text = input(\"Enter a string: \")\n",
        "\n",
        "if text == text[::-1]:\n",
        "    print(\"The string is a palindrome.\")\n",
        "else:\n",
        "    print(\"The string is not a palindrome.\")"
      ],
      "metadata": {
        "colab": {
          "base_uri": "https://localhost:8080/"
        },
        "id": "IWaMCNED2zL5",
        "outputId": "3b50f3b4-f66e-422b-815c-2fb3b5cf468d"
      },
      "execution_count": null,
      "outputs": [
        {
          "output_type": "stream",
          "name": "stdout",
          "text": [
            "Enter a string: MADAM\n",
            "The string is a palindrome.\n"
          ]
        }
      ]
    },
    {
      "cell_type": "code",
      "source": [
        "# Write a program to Calculate Area of a Circle\n",
        "\n",
        "import math\n",
        "\n",
        "radius = float(input(\"Enter radius of the circle: \"))\n",
        "area = math.pi * radius ** 2\n",
        "\n",
        "print(f\"Area of the circle is {area}\")"
      ],
      "metadata": {
        "colab": {
          "base_uri": "https://localhost:8080/"
        },
        "id": "VzC07NqB26Ii",
        "outputId": "b69db420-9706-4ea3-d9a0-670140bc9b21"
      },
      "execution_count": null,
      "outputs": [
        {
          "output_type": "stream",
          "name": "stdout",
          "text": [
            "Enter radius of the circle: 6\n",
            "Area of the circle is 113.09733552923255\n"
          ]
        }
      ]
    },
    {
      "cell_type": "code",
      "source": [
        "import random\n",
        "\n",
        "number = random.randint(1, 100)\n",
        "guess = int(input(\"Guess a number between 1 and 100: \"))\n",
        "\n",
        "while guess != number:\n",
        "    if guess < number:\n",
        "        print(\"Too low!\")\n",
        "    else:\n",
        "        print(\"Too high!\")\n",
        "    guess = int(input(\"Try again: \"))\n",
        "\n",
        "print(\"Congratulations! You guessed it right.\")"
      ],
      "metadata": {
        "colab": {
          "base_uri": "https://localhost:8080/"
        },
        "id": "irZI1VGV3JLn",
        "outputId": "a1855062-aad8-4ca6-82bc-5c378f5f1447"
      },
      "execution_count": null,
      "outputs": [
        {
          "output_type": "stream",
          "name": "stdout",
          "text": [
            "Guess a number between 1 and 100: 1\n",
            "Too low!\n",
            "Try again: 100\n",
            "Too high!\n",
            "Try again: 50\n",
            "Too low!\n",
            "Try again: 55\n",
            "Too low!\n",
            "Try again: 60\n",
            "Too low!\n",
            "Try again: 70\n",
            "Too low!\n",
            "Try again: 80\n",
            "Too low!\n",
            "Try again: 99\n",
            "Too high!\n",
            "Try again: 98\n",
            "Too high!\n",
            "Try again: 90\n",
            "Too high!\n",
            "Try again: 80\n",
            "Too low!\n",
            "Try again: 88\n",
            "Too high!\n",
            "Try again: 87\n",
            "Too high!\n",
            "Try again: 86\n",
            "Too high!\n",
            "Try again: 85\n",
            "Too high!\n",
            "Try again: 84\n",
            "Too high!\n",
            "Try again: 83\n",
            "Too high!\n",
            "Try again: 82\n",
            "Congratulations! You guessed it right.\n"
          ]
        }
      ]
    },
    {
      "cell_type": "code",
      "source": [
        "def factorial(n):\n",
        "    result = 1\n",
        "    for i in range(1, n+1):\n",
        "        result *= i\n",
        "    return result\n",
        "\n",
        "rows = int(input(\"Enter number of rows for Pascal's Triangle: \"))\n",
        "\n",
        "for i in range(rows):\n",
        "    for j in range(rows - i - 1):\n",
        "        print(\" \", end=\" \")\n",
        "    for j in range(i + 1):\n",
        "        print(factorial(i) // (factorial(j) * factorial(i - j)), end=\"   \")\n",
        "    print()"
      ],
      "metadata": {
        "colab": {
          "base_uri": "https://localhost:8080/"
        },
        "id": "EIkwM8Mk32zB",
        "outputId": "d9027d6f-8762-4de5-dca3-6144d2e13845"
      },
      "execution_count": null,
      "outputs": [
        {
          "output_type": "stream",
          "name": "stdout",
          "text": [
            "Enter number of rows for Pascal's Triangle: 5\n",
            "        1   \n",
            "      1   1   \n",
            "    1   2   1   \n",
            "  1   3   3   1   \n",
            "1   4   6   4   1   \n"
          ]
        }
      ]
    }
  ]
}