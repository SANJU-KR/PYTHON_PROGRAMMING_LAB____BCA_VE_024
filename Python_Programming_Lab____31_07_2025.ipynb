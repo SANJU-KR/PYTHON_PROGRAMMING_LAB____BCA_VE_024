{
  "nbformat": 4,
  "nbformat_minor": 0,
  "metadata": {
    "colab": {
      "provenance": [],
      "authorship_tag": "ABX9TyMw0m2fH/ur56i49/7sA6BX",
      "include_colab_link": true
    },
    "kernelspec": {
      "name": "python3",
      "display_name": "Python 3"
    },
    "language_info": {
      "name": "python"
    }
  },
  "cells": [
    {
      "cell_type": "markdown",
      "metadata": {
        "id": "view-in-github",
        "colab_type": "text"
      },
      "source": [
        "<a href=\"https://colab.research.google.com/github/SANJU-KR/PYTHON_PROGRAMMING_LAB____BCA_VE_024/blob/main/Python_Programming_Lab____31_07_2025.ipynb\" target=\"_parent\"><img src=\"https://colab.research.google.com/assets/colab-badge.svg\" alt=\"Open In Colab\"/></a>"
      ]
    },
    {
      "cell_type": "code",
      "execution_count": 1,
      "metadata": {
        "colab": {
          "base_uri": "https://localhost:8080/"
        },
        "id": "E4kEEILCMffZ",
        "outputId": "d631038d-6d1b-4487-eb0b-71a747186136"
      },
      "outputs": [
        {
          "output_type": "stream",
          "name": "stdout",
          "text": [
            "Enter first number: 1.2\n",
            "Enter second number: 3.1\n",
            "The sum is: 4.3\n"
          ]
        }
      ],
      "source": [
        "# Write a program to add two numbers\n",
        "\n",
        "a = float(input(\"Enter first number: \"))\n",
        "b = float(input(\"Enter second number: \"))\n",
        "print(\"The sum is:\", a + b)"
      ]
    },
    {
      "cell_type": "code",
      "source": [
        "# Write a program to find maximum of two numbers\n",
        "\n",
        "a = float(input(\"Enter first number: \"))\n",
        "b = float(input(\"Enter second number: \"))\n",
        "print(\"The maximum is:\", max(a, b))"
      ],
      "metadata": {
        "colab": {
          "base_uri": "https://localhost:8080/"
        },
        "id": "rCWijjs-M7cy",
        "outputId": "a3604cbd-f1c0-4789-8fae-d4989ee95756"
      },
      "execution_count": 2,
      "outputs": [
        {
          "output_type": "stream",
          "name": "stdout",
          "text": [
            "Enter first number: 63.36\n",
            "Enter second number: 98.52\n",
            "The maximum is: 98.52\n"
          ]
        }
      ]
    },
    {
      "cell_type": "code",
      "source": [
        "# Write a program to find simple interest\n",
        "\n",
        "p = float(input(\"Enter principal amount: \"))\n",
        "r = float(input(\"Enter rate of interest: \"))\n",
        "t = float(input(\"Enter time in years: \"))\n",
        "print(\"Simple Interest is:\", (p * r * t) / 100)"
      ],
      "metadata": {
        "colab": {
          "base_uri": "https://localhost:8080/"
        },
        "id": "odgFCZauNB7H",
        "outputId": "3cb900cc-e2f8-4989-9333-8d851a26144f"
      },
      "execution_count": 3,
      "outputs": [
        {
          "output_type": "stream",
          "name": "stdout",
          "text": [
            "Enter principal amount: 23000.20\n",
            "Enter rate of interest: 6\n",
            "Enter time in years: 1\n",
            "Simple Interest is: 1380.0120000000002\n"
          ]
        }
      ]
    },
    {
      "cell_type": "code",
      "source": [
        "# Write a program to find the area of circle\n",
        "\n",
        "import math\n",
        "r = float(input(\"Enter radius of the circle: \"))\n",
        "print(\"Area of circle is:\", math.pi * r * r)"
      ],
      "metadata": {
        "colab": {
          "base_uri": "https://localhost:8080/"
        },
        "id": "naPoO2vaNKRV",
        "outputId": "6e6bed17-ef20-49fa-9f92-7563c2261579"
      },
      "execution_count": 4,
      "outputs": [
        {
          "output_type": "stream",
          "name": "stdout",
          "text": [
            "Enter radius of the circle: 10\n",
            "Area of circle is: 314.1592653589793\n"
          ]
        }
      ]
    },
    {
      "cell_type": "code",
      "source": [
        "# Sum of squares of first n natural numbers\n",
        "\n",
        "n = int(input(\"Enter value of n: \"))\n",
        "print(\"Sum of squares is:\", n * (n + 1) * (2 * n + 1) // 6)"
      ],
      "metadata": {
        "colab": {
          "base_uri": "https://localhost:8080/"
        },
        "id": "pbqRVv0tNS3i",
        "outputId": "4720ca29-54d9-452d-ca90-3b5b253959ca"
      },
      "execution_count": 5,
      "outputs": [
        {
          "output_type": "stream",
          "name": "stdout",
          "text": [
            "Enter value of n: 5\n",
            "Sum of squares is: 55\n"
          ]
        }
      ]
    },
    {
      "cell_type": "code",
      "source": [
        "# Cube sum of first n natural numbers\n",
        "\n",
        "n = int(input(\"Enter value of n: \"))\n",
        "print(\"Sum of cubes is:\", ((n * (n + 1)) // 2) ** 2)"
      ],
      "metadata": {
        "colab": {
          "base_uri": "https://localhost:8080/"
        },
        "id": "9NZh9vzYNZMG",
        "outputId": "1647dcfb-ce40-4db1-b3f8-f511cc6d2e33"
      },
      "execution_count": 6,
      "outputs": [
        {
          "output_type": "stream",
          "name": "stdout",
          "text": [
            "Enter value of n: 5\n",
            "Sum of cubes is: 225\n"
          ]
        }
      ]
    }
  ]
}