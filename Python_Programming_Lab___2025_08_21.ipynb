{
  "nbformat": 4,
  "nbformat_minor": 0,
  "metadata": {
    "colab": {
      "provenance": [],
      "authorship_tag": "ABX9TyNuezXd3vU060KPAcIPuYJw",
      "include_colab_link": true
    },
    "kernelspec": {
      "name": "python3",
      "display_name": "Python 3"
    },
    "language_info": {
      "name": "python"
    }
  },
  "cells": [
    {
      "cell_type": "markdown",
      "metadata": {
        "id": "view-in-github",
        "colab_type": "text"
      },
      "source": [
        "<a href=\"https://colab.research.google.com/github/SANJU-KR/PYTHON_PROGRAMMING_LAB____BCA_VE_024/blob/main/Python_Programming_Lab___2025_08_21.ipynb\" target=\"_parent\"><img src=\"https://colab.research.google.com/assets/colab-badge.svg\" alt=\"Open In Colab\"/></a>"
      ]
    },
    {
      "cell_type": "code",
      "execution_count": 1,
      "metadata": {
        "colab": {
          "base_uri": "https://localhost:8080/"
        },
        "id": "vMGuS6mYGIKA",
        "outputId": "90329adf-1274-4666-9c33-ba270919a52d"
      },
      "outputs": [
        {
          "output_type": "stream",
          "name": "stdout",
          "text": [
            "Enter number of terms: 9\n",
            "0 1 1 2 3 5 8 13 21 "
          ]
        }
      ],
      "source": [
        "# Write a program to print Fibonacci series up to N terms\n",
        "n = int(input(\"Enter number of terms: \"))\n",
        "a, b = 0, 1\n",
        "for _ in range(n):\n",
        "    print(a, end=\" \")\n",
        "    a, b = b, a + b"
      ]
    },
    {
      "cell_type": "code",
      "source": [
        "# Write a program to reverse a number\n",
        "n = int(input(\"Enter a number: \"))\n",
        "rev = 0\n",
        "while n > 0:\n",
        "    rev = rev * 10 + n % 10\n",
        "    n //= 10\n",
        "print(\"Reversed number:\", rev)"
      ],
      "metadata": {
        "colab": {
          "base_uri": "https://localhost:8080/"
        },
        "id": "yjfFQsjbGU0r",
        "outputId": "4e9d299b-fd6b-40a1-893c-6c7c1a7d6eba"
      },
      "execution_count": 2,
      "outputs": [
        {
          "output_type": "stream",
          "name": "stdout",
          "text": [
            "Enter a number: 123456987\n",
            "Reversed number: 789654321\n"
          ]
        }
      ]
    },
    {
      "cell_type": "code",
      "source": [
        "# Write a program to count digits in a number\n",
        "n = int(input(\"Enter a number: \"))\n",
        "count = 0\n",
        "while n > 0:\n",
        "    count += 1\n",
        "    n //= 10\n",
        "print(\"Number of digits:\", count)"
      ],
      "metadata": {
        "colab": {
          "base_uri": "https://localhost:8080/"
        },
        "id": "w3AgAyzLGe4E",
        "outputId": "e61f0d43-945a-4ec9-dc86-236f145322d3"
      },
      "execution_count": 3,
      "outputs": [
        {
          "output_type": "stream",
          "name": "stdout",
          "text": [
            "Enter a number: 78525623\n",
            "Number of digits: 8\n"
          ]
        }
      ]
    },
    {
      "cell_type": "code",
      "source": [
        "# Write a program to check leap year\n",
        "year = int(input(\"Enter a year: \"))\n",
        "if (year % 400 == 0) or (year % 4 == 0 and year % 100 != 0):\n",
        "    print(\"Leap Year\")\n",
        "else:\n",
        "    print(\"Not a Leap Year\")"
      ],
      "metadata": {
        "colab": {
          "base_uri": "https://localhost:8080/"
        },
        "id": "3uCFk9PsGjKJ",
        "outputId": "1b3f46ec-77ca-4136-8dd4-edb6b069671e"
      },
      "execution_count": 4,
      "outputs": [
        {
          "output_type": "stream",
          "name": "stdout",
          "text": [
            "Enter a year: 2026\n",
            "Not a Leap Year\n"
          ]
        }
      ]
    },
    {
      "cell_type": "code",
      "source": [
        "# Write a program to find sum of digits of a number\n",
        "n = int(input(\"Enter a number: \"))\n",
        "s = 0\n",
        "while n > 0:\n",
        "    s += n % 10\n",
        "    n //= 10\n",
        "print(\"Sum of digits:\", s)"
      ],
      "metadata": {
        "colab": {
          "base_uri": "https://localhost:8080/"
        },
        "id": "mfwqIPsCGonE",
        "outputId": "dcd94c7b-3ee6-43bf-8ea7-9a8e29a5f374"
      },
      "execution_count": 5,
      "outputs": [
        {
          "output_type": "stream",
          "name": "stdout",
          "text": [
            "Enter a number: 1012\n",
            "Sum of digits: 4\n"
          ]
        }
      ]
    },
    {
      "cell_type": "code",
      "source": [
        "# Write a program to check palindrome number\n",
        "n = int(input(\"Enter a number: \"))\n",
        "temp = n\n",
        "rev = 0\n",
        "while n > 0:\n",
        "    rev = rev * 10 + n % 10\n",
        "    n //= 10\n",
        "if temp == rev:\n",
        "    print(\"Palindrome\")\n",
        "else:\n",
        "    print(\"Not Palindrome\")"
      ],
      "metadata": {
        "colab": {
          "base_uri": "https://localhost:8080/"
        },
        "id": "xEoeayGMGv_b",
        "outputId": "bb2dbb7d-2f32-4ed1-d0a7-f4fb3142e45a"
      },
      "execution_count": 6,
      "outputs": [
        {
          "output_type": "stream",
          "name": "stdout",
          "text": [
            "Enter a number: 1991\n",
            "Palindrome\n"
          ]
        }
      ]
    },
    {
      "cell_type": "code",
      "source": [
        "# Write a program to check Armstrong number\n",
        "n = int(input(\"Enter a number: \"))\n",
        "temp = n\n",
        "s = 0\n",
        "while n > 0:\n",
        "    d = n % 10\n",
        "    s += d ** 3\n",
        "    n //= 10\n",
        "if temp == s:\n",
        "    print(\"Armstrong Number\")\n",
        "else:\n",
        "    print(\"Not Armstrong Number\")"
      ],
      "metadata": {
        "colab": {
          "base_uri": "https://localhost:8080/"
        },
        "id": "mn_QpwVmG9Cr",
        "outputId": "7afb68e5-8ef5-46ac-b61f-548c00659b9e"
      },
      "execution_count": 7,
      "outputs": [
        {
          "output_type": "stream",
          "name": "stdout",
          "text": [
            "Enter a number: 966\n",
            "Not Armstrong Number\n"
          ]
        }
      ]
    }
  ]
}