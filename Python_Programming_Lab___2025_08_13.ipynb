{
  "nbformat": 4,
  "nbformat_minor": 0,
  "metadata": {
    "colab": {
      "provenance": [],
      "authorship_tag": "ABX9TyO2cMsW0lUbOyNIV82DZdzb",
      "include_colab_link": true
    },
    "kernelspec": {
      "name": "python3",
      "display_name": "Python 3"
    },
    "language_info": {
      "name": "python"
    }
  },
  "cells": [
    {
      "cell_type": "markdown",
      "metadata": {
        "id": "view-in-github",
        "colab_type": "text"
      },
      "source": [
        "<a href=\"https://colab.research.google.com/github/SANJU-KR/PYTHON_PROGRAMMING_LAB____BCA_VE_024/blob/main/Python_Programming_Lab___2025_08_13.ipynb\" target=\"_parent\"><img src=\"https://colab.research.google.com/assets/colab-badge.svg\" alt=\"Open In Colab\"/></a>"
      ]
    },
    {
      "cell_type": "code",
      "execution_count": 1,
      "metadata": {
        "colab": {
          "base_uri": "https://localhost:8080/"
        },
        "id": "8P_ZPMnYByFn",
        "outputId": "854bb6f8-a8f8-4d22-8b3f-d1ea206c91b5"
      },
      "outputs": [
        {
          "output_type": "stream",
          "name": "stdout",
          "text": [
            "Enter a number: 56\n",
            "Hexadecimal: 0x38\n",
            "Octal: 0o70\n",
            "Square Root: 7.483314773547883\n"
          ]
        }
      ],
      "source": [
        "# Write a program to enter a number and display its hex and octal equivalent and its square root\n",
        "import math\n",
        "n = int(input(\"Enter a number: \"))\n",
        "print(\"Hexadecimal:\", hex(n))\n",
        "print(\"Octal:\", oct(n))\n",
        "print(\"Square Root:\", math.sqrt(n))"
      ]
    },
    {
      "cell_type": "code",
      "source": [
        "# Write a program to read and print values of variables of different data types\n",
        "i = int(input(\"Enter an integer: \"))\n",
        "f = float(input(\"Enter a float: \"))\n",
        "s = input(\"Enter a string: \")\n",
        "b = bool(int(input(\"Enter 1 for True or 0 for False: \")))\n",
        "print(\"Integer:\", i)\n",
        "print(\"Float:\", f)\n",
        "print(\"String:\", s)\n",
        "print(\"Boolean:\", b)"
      ],
      "metadata": {
        "colab": {
          "base_uri": "https://localhost:8080/"
        },
        "id": "mCsewkuMESaW",
        "outputId": "a6c58033-13a7-48ec-e35f-d43cb8d3fd8c"
      },
      "execution_count": 2,
      "outputs": [
        {
          "output_type": "stream",
          "name": "stdout",
          "text": [
            "Enter an integer: 10\n",
            "Enter a float: 6.2\n",
            "Enter a string: Sanju\n",
            "Enter 1 for True or 0 for False: 1\n",
            "Integer: 10\n",
            "Float: 6.2\n",
            "String: Sanju\n",
            "Boolean: True\n"
          ]
        }
      ]
    },
    {
      "cell_type": "code",
      "source": [
        "# Write a program to calculate the area of triangle using heron's formula\n",
        "import math\n",
        "a = float(input(\"Enter side a: \"))\n",
        "b = float(input(\"Enter side b: \"))\n",
        "c = float(input(\"Enter side c: \"))\n",
        "s = (a + b + c) / 2\n",
        "area = math.sqrt(s * (s - a) * (s - b) * (s - c))\n",
        "print(\"Area of triangle:\", area)"
      ],
      "metadata": {
        "colab": {
          "base_uri": "https://localhost:8080/"
        },
        "id": "AdLlWEr3EsYp",
        "outputId": "ec08f149-2764-4990-8ada-fab6888ad88b"
      },
      "execution_count": 3,
      "outputs": [
        {
          "output_type": "stream",
          "name": "stdout",
          "text": [
            "Enter side a: 56\n",
            "Enter side b: 52\n",
            "Enter side c: 51\n",
            "Area of triangle: 1210.058237234886\n"
          ]
        }
      ]
    },
    {
      "cell_type": "code",
      "source": [
        "# Write a program to find the distance between two points\n",
        "import math\n",
        "x1 = float(input(\"Enter x1: \"))\n",
        "y1 = float(input(\"Enter y1: \"))\n",
        "x2 = float(input(\"Enter x2: \"))\n",
        "y2 = float(input(\"Enter y2: \"))\n",
        "d = math.sqrt((x2 - x1)**2 + (y2 - y1)**2)\n",
        "print(\"Distance:\", d)"
      ],
      "metadata": {
        "colab": {
          "base_uri": "https://localhost:8080/"
        },
        "id": "6wC7IWKWExWn",
        "outputId": "fab29a68-35c5-49be-8d83-80166fe5a417"
      },
      "execution_count": 4,
      "outputs": [
        {
          "output_type": "stream",
          "name": "stdout",
          "text": [
            "Enter x1: 6\n",
            "Enter y1: 5\n",
            "Enter x2: 2\n",
            "Enter y2: 5\n",
            "Distance: 4.0\n"
          ]
        }
      ]
    },
    {
      "cell_type": "code",
      "source": [
        "# Write a program to print the digit at one's place of a number\n",
        "n = int(input(\"Enter a number: \"))\n",
        "print(\"Ones place digit:\", n % 10)"
      ],
      "metadata": {
        "colab": {
          "base_uri": "https://localhost:8080/"
        },
        "id": "wfFzoariE5DC",
        "outputId": "97a75196-1964-4034-cf11-3ebf35fa9554"
      },
      "execution_count": 5,
      "outputs": [
        {
          "output_type": "stream",
          "name": "stdout",
          "text": [
            "Enter a number: 631\n",
            "Ones place digit: 1\n"
          ]
        }
      ]
    },
    {
      "cell_type": "code",
      "source": [
        "# Write a program for conversion of Fahrenheit to degree Celsius\n",
        "f = float(input(\"Enter temperature in Fahrenheit: \"))\n",
        "c = (f - 32) * 5 / 9\n",
        "print(\"Celsius:\", c)"
      ],
      "metadata": {
        "colab": {
          "base_uri": "https://localhost:8080/"
        },
        "id": "Ko5JoOpfFAKl",
        "outputId": "fa0d7c18-2475-49c3-da80-80ad16219271"
      },
      "execution_count": 6,
      "outputs": [
        {
          "output_type": "stream",
          "name": "stdout",
          "text": [
            "Enter temperature in Fahrenheit: 98.7\n",
            "Celsius: 37.05555555555556\n"
          ]
        }
      ]
    },
    {
      "cell_type": "code",
      "source": [
        "# Write a program to calculate student result based on two examinations, one sport event and three activities\n",
        "exam1 = float(input(\"Enter marks of exam 1: \"))\n",
        "exam2 = float(input(\"Enter marks of exam 2: \"))\n",
        "sport = float(input(\"Enter marks of sport: \"))\n",
        "act1 = float(input(\"Enter marks of activity 1: \"))\n",
        "act2 = float(input(\"Enter marks of activity 2: \"))\n",
        "act3 = float(input(\"Enter marks of activity 3: \"))\n",
        "\n",
        "exam_avg = (exam1 + exam2) / 2\n",
        "act_avg = (act1 + act2 + act3) / 3\n",
        "\n",
        "result = exam_avg * 0.5 + sport * 0.2 + act_avg * 0.3\n",
        "print(\"Final Result:\", result)"
      ],
      "metadata": {
        "colab": {
          "base_uri": "https://localhost:8080/"
        },
        "id": "sf-om5CbFL-N",
        "outputId": "520090aa-6002-4057-cfdc-3df55f65d84d"
      },
      "execution_count": 7,
      "outputs": [
        {
          "output_type": "stream",
          "name": "stdout",
          "text": [
            "Enter marks of exam 1: 90\n",
            "Enter marks of exam 2: 98\n",
            "Enter marks of sport: 100\n",
            "Enter marks of activity 1: 96\n",
            "Enter marks of activity 2: 95\n",
            "Enter marks of activity 3: 99\n",
            "Final Result: 96.0\n"
          ]
        }
      ]
    }
  ]
}