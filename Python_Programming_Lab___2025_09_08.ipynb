{
  "cells": [
    {
      "cell_type": "markdown",
      "metadata": {
        "id": "view-in-github",
        "colab_type": "text"
      },
      "source": [
        "<a href=\"https://colab.research.google.com/github/SANJU-KR/PYTHON_PROGRAMMING_LAB____BCA_VE_024/blob/main/Python_Programming_Lab___2025_09_08.ipynb\" target=\"_parent\"><img src=\"https://colab.research.google.com/assets/colab-badge.svg\" alt=\"Open In Colab\"/></a>"
      ]
    },
    {
      "cell_type": "code",
      "execution_count": null,
      "id": "3b9f8cd5-4988-4642-97b7-e29fdf89056d",
      "metadata": {
        "id": "3b9f8cd5-4988-4642-97b7-e29fdf89056d",
        "outputId": "de76b0e2-0091-4134-833b-80267080f496"
      },
      "outputs": [
        {
          "name": "stdin",
          "output_type": "stream",
          "text": [
            "Enter elements for the tuple separated by commas:  Sanju,Gunjan,Divya\n"
          ]
        },
        {
          "name": "stdout",
          "output_type": "stream",
          "text": [
            "The tuple is: ('Sanju', 'Gunjan', 'Divya')\n"
          ]
        }
      ],
      "source": [
        "# Write a program to create a tuple and print its elements.\n",
        "\n",
        "elements = input(\"Enter elements for the tuple separated by commas: \").split(',')\n",
        "my_tuple = tuple(elements)\n",
        "print(\"The tuple is:\", my_tuple)"
      ]
    },
    {
      "cell_type": "code",
      "execution_count": null,
      "id": "e9f8b04f-14a2-4977-85b1-0254adc5fa64",
      "metadata": {
        "id": "e9f8b04f-14a2-4977-85b1-0254adc5fa64",
        "outputId": "34cf4f88-ef6a-4d42-e6fb-55f2058af3c2"
      },
      "outputs": [
        {
          "name": "stdin",
          "output_type": "stream",
          "text": [
            "Enter elements for the tuple separated by commas:  a,b,c,d,e\n"
          ]
        },
        {
          "name": "stdout",
          "output_type": "stream",
          "text": [
            "Tuple: ('a', 'b', 'c', 'd', 'e')\n"
          ]
        },
        {
          "name": "stdin",
          "output_type": "stream",
          "text": [
            "Enter index to access element:  2\n"
          ]
        },
        {
          "name": "stdout",
          "output_type": "stream",
          "text": [
            "Element at index 2 is c\n"
          ]
        },
        {
          "name": "stdin",
          "output_type": "stream",
          "text": [
            "Enter start index for slicing:  1\n",
            "Enter end index for slicing:  4\n"
          ]
        },
        {
          "name": "stdout",
          "output_type": "stream",
          "text": [
            "Sliced tuple: ('b', 'c', 'd')\n"
          ]
        }
      ],
      "source": [
        "# Write a program to access tuple elements using indexing and slicing.\n",
        "\n",
        "elements = input(\"Enter elements for the tuple separated by commas: \").split(',')\n",
        "my_tuple = tuple(elements)\n",
        "\n",
        "print(\"Tuple:\", my_tuple)\n",
        "index = int(input(\"Enter index to access element: \"))\n",
        "print(\"Element at index\", index, \"is\", my_tuple[index])\n",
        "\n",
        "start = int(input(\"Enter start index for slicing: \"))\n",
        "end = int(input(\"Enter end index for slicing: \"))\n",
        "print(\"Sliced tuple:\", my_tuple[start:end])\n"
      ]
    },
    {
      "cell_type": "code",
      "execution_count": null,
      "id": "b26b77a4-fe66-4103-9de0-22de6c8686c6",
      "metadata": {
        "id": "b26b77a4-fe66-4103-9de0-22de6c8686c6",
        "outputId": "2c5e0a6e-04dc-4f83-dee4-ca4a10fd2fc9"
      },
      "outputs": [
        {
          "name": "stdin",
          "output_type": "stream",
          "text": [
            "Enter elements for the tuple separated by commas:  5,6,41,2\n"
          ]
        },
        {
          "name": "stdout",
          "output_type": "stream",
          "text": [
            "Length of the tuple: 4\n"
          ]
        }
      ],
      "source": [
        "# Write a program to find the length of a tuple using len().\n",
        "\n",
        "elements = input(\"Enter elements for the tuple separated by commas: \").split(',')\n",
        "my_tuple = tuple(elements)\n",
        "\n",
        "print(\"Length of the tuple:\", len(my_tuple))"
      ]
    },
    {
      "cell_type": "code",
      "execution_count": null,
      "id": "ced62364-be0b-42ba-a5f8-38a449d4d360",
      "metadata": {
        "id": "ced62364-be0b-42ba-a5f8-38a449d4d360",
        "outputId": "2531e91e-de63-4a7f-8d06-eaab49998fbc"
      },
      "outputs": [
        {
          "name": "stdin",
          "output_type": "stream",
          "text": [
            "Enter elements for the tuple separated by commas:  Mercedez,BMW,Audi\n",
            "Enter an element to check if it exists in the tuple:  Audi\n"
          ]
        },
        {
          "name": "stdout",
          "output_type": "stream",
          "text": [
            "Audi exists in the tuple.\n"
          ]
        }
      ],
      "source": [
        "# Write a program to check if an element exists in a tuple using in operator.\n",
        "\n",
        "elements = input(\"Enter elements for the tuple separated by commas: \").split(',')\n",
        "my_tuple = tuple(elements)\n",
        "\n",
        "item = input(\"Enter an element to check if it exists in the tuple: \")\n",
        "if item in my_tuple:\n",
        "    print(item, \"exists in the tuple.\")\n",
        "else:\n",
        "    print(item, \"does not exist in the tuple.\")"
      ]
    },
    {
      "cell_type": "code",
      "execution_count": null,
      "id": "db06e1ce-c0ae-4e67-a569-6ffe082596bf",
      "metadata": {
        "id": "db06e1ce-c0ae-4e67-a569-6ffe082596bf",
        "outputId": "80a13bab-8a59-4e20-a086-8087770bb92f"
      },
      "outputs": [
        {
          "name": "stdin",
          "output_type": "stream",
          "text": [
            "Enter elements of first tuple separated by commas:  BMW, M5\n",
            "Enter elements of second tuple separated by commas:  Audi,R8\n"
          ]
        },
        {
          "name": "stdout",
          "output_type": "stream",
          "text": [
            "Concatenated tuple: ('BMW', ' M5', 'Audi', 'R8')\n"
          ]
        }
      ],
      "source": [
        "# Write a program to concatenate two tuples and display the result.\n",
        "\n",
        "tuple1 = tuple(input(\"Enter elements of first tuple separated by commas: \").split(','))\n",
        "tuple2 = tuple(input(\"Enter elements of second tuple separated by commas: \").split(','))\n",
        "\n",
        "result = tuple1 + tuple2\n",
        "print(\"Concatenated tuple:\", result)"
      ]
    },
    {
      "cell_type": "code",
      "execution_count": null,
      "id": "eb34bd77-9ebe-404a-b318-0dfc37f610a1",
      "metadata": {
        "id": "eb34bd77-9ebe-404a-b318-0dfc37f610a1",
        "outputId": "1178d52c-dfe0-43b8-ac50-b7d4c2b2d704"
      },
      "outputs": [
        {
          "name": "stdin",
          "output_type": "stream",
          "text": [
            "Enter elements for the tuple separated by commas:  Red,Blue\n",
            "Enter number of times to repeat the tuple:  8\n"
          ]
        },
        {
          "name": "stdout",
          "output_type": "stream",
          "text": [
            "Repeated tuple: ('Red', 'Blue', 'Red', 'Blue', 'Red', 'Blue', 'Red', 'Blue', 'Red', 'Blue', 'Red', 'Blue', 'Red', 'Blue', 'Red', 'Blue')\n"
          ]
        }
      ],
      "source": [
        "# Write a program to repeat a tuple multiple times using *.\n",
        "\n",
        "elements = input(\"Enter elements for the tuple separated by commas: \").split(',')\n",
        "my_tuple = tuple(elements)\n",
        "\n",
        "times = int(input(\"Enter number of times to repeat the tuple: \"))\n",
        "result = my_tuple * times\n",
        "print(\"Repeated tuple:\", result)\n"
      ]
    },
    {
      "cell_type": "code",
      "execution_count": null,
      "id": "ad151492-275f-4a6f-a18b-3e74fda59280",
      "metadata": {
        "id": "ad151492-275f-4a6f-a18b-3e74fda59280",
        "outputId": "6740cc80-d294-4194-cd23-ec52b75ee029"
      },
      "outputs": [
        {
          "name": "stdin",
          "output_type": "stream",
          "text": [
            "Enter list elements separated by commas:  L,O,Q\n"
          ]
        },
        {
          "name": "stdout",
          "output_type": "stream",
          "text": [
            "Tuple converted from list: ('L', 'O', 'Q')\n"
          ]
        }
      ],
      "source": [
        "# Write a program to convert a list to a tuple using tuple().\n",
        "\n",
        "elements = input(\"Enter list elements separated by commas: \").split(',')\n",
        "my_list = list(elements)\n",
        "my_tuple = tuple(my_list)\n",
        "\n",
        "print(\"Tuple converted from list:\", my_tuple)\n"
      ]
    },
    {
      "cell_type": "code",
      "execution_count": null,
      "id": "8a464955-cc54-4646-8488-aa6ff1c6c0b5",
      "metadata": {
        "id": "8a464955-cc54-4646-8488-aa6ff1c6c0b5",
        "outputId": "31507122-1b78-4ca0-e99f-96e23dfa61eb"
      },
      "outputs": [
        {
          "name": "stdin",
          "output_type": "stream",
          "text": [
            "Enter exactly three elements for the tuple separated by commas:  Sanju,MRIIRS,BCA\n"
          ]
        },
        {
          "name": "stdout",
          "output_type": "stream",
          "text": [
            "Unpacked values:\n",
            "a = Sanju\n",
            "b = MRIIRS\n",
            "c = BCA\n"
          ]
        }
      ],
      "source": [
        "# Write a program to unpack a tuple into variables.\n",
        "\n",
        "elements = input(\"Enter exactly three elements for the tuple separated by commas: \").split(',')\n",
        "if len(elements) == 3:\n",
        "    a, b, c = tuple(elements)\n",
        "    print(\"Unpacked values:\")\n",
        "    print(\"a =\", a)\n",
        "    print(\"b =\", b)\n",
        "    print(\"c =\", c)\n",
        "else:\n",
        "    print(\"Please enter exactly 3 elements.\")"
      ]
    },
    {
      "cell_type": "code",
      "execution_count": null,
      "id": "cbade791-3204-44b8-8532-d38596f35850",
      "metadata": {
        "id": "cbade791-3204-44b8-8532-d38596f35850",
        "outputId": "15f485e5-ff9f-4035-d5cc-4fc21a7f2233"
      },
      "outputs": [
        {
          "name": "stdin",
          "output_type": "stream",
          "text": [
            "Enter first number:  5\n",
            "Enter second number:  55\n"
          ]
        },
        {
          "name": "stdout",
          "output_type": "stream",
          "text": [
            "Before swapping: a = 5 , b = 55\n",
            "After swapping: a = 55 , b = 5\n"
          ]
        }
      ],
      "source": [
        "# Write a program to swap two numbers using tuple unpacking.\n",
        "\n",
        "a = input(\"Enter first number: \")\n",
        "b = input(\"Enter second number: \")\n",
        "\n",
        "print(\"Before swapping: a =\", a, \", b =\", b)\n",
        "a, b = b, a\n",
        "print(\"After swapping: a =\", a, \", b =\", b)"
      ]
    },
    {
      "cell_type": "code",
      "execution_count": null,
      "id": "3c5c1423-6808-4f20-8a21-ca1a709bcfd4",
      "metadata": {
        "id": "3c5c1423-6808-4f20-8a21-ca1a709bcfd4",
        "outputId": "8630e4fe-e3d9-4975-c6e3-2b87d898f883"
      },
      "outputs": [
        {
          "name": "stdin",
          "output_type": "stream",
          "text": [
            "Enter numeric elements for the tuple separated by commas:  62,88,77,45\n"
          ]
        },
        {
          "name": "stdout",
          "output_type": "stream",
          "text": [
            "Tuple: (62, 88, 77, 45)\n",
            "Sum: 272\n",
            "Minimum: 45\n",
            "Maximum: 88\n"
          ]
        }
      ],
      "source": [
        "# Write a program to find sum, min, and max of numeric tuple elements.\n",
        "\n",
        "elements = input(\"Enter numeric elements for the tuple separated by commas: \").split(',')\n",
        "num_tuple = tuple(map(int, elements))\n",
        "\n",
        "print(\"Tuple:\", num_tuple)\n",
        "print(\"Sum:\", sum(num_tuple))\n",
        "print(\"Minimum:\", min(num_tuple))\n",
        "print(\"Maximum:\", max(num_tuple))"
      ]
    },
    {
      "cell_type": "code",
      "execution_count": null,
      "id": "1a6be779-dfa9-43e3-9ac4-c70ee5befe04",
      "metadata": {
        "id": "1a6be779-dfa9-43e3-9ac4-c70ee5befe04",
        "outputId": "6ff4d0b0-67a4-4332-af3a-6ca2b465a5de"
      },
      "outputs": [
        {
          "name": "stdin",
          "output_type": "stream",
          "text": [
            "Enter tuple elements separated by space:   1 22 22 5 3 66 55 22\n",
            "Enter element to count occurrences:  22\n"
          ]
        },
        {
          "name": "stdout",
          "output_type": "stream",
          "text": [
            "Occurrences of 22 in tuple: 3\n"
          ]
        }
      ],
      "source": [
        "# Write a program to count occurrences of an element in a tuple using count().\n",
        "t = tuple(map(int, input(\"Enter tuple elements separated by space: \").split()))\n",
        "element = int(input(\"Enter element to count occurrences: \"))\n",
        "count = t.count(element)\n",
        "print(f\"Occurrences of {element} in tuple: {count}\")"
      ]
    },
    {
      "cell_type": "code",
      "execution_count": null,
      "id": "21a6c647-da58-4be2-95a9-8a054052fed1",
      "metadata": {
        "id": "21a6c647-da58-4be2-95a9-8a054052fed1",
        "outputId": "886aab0c-7c7a-4d09-83c7-d9662bb26e23"
      },
      "outputs": [
        {
          "name": "stdin",
          "output_type": "stream",
          "text": [
            "Enter tuple elements separated by space:  10 20 3 0 40 50\n",
            "Enter element to find index:  0\n"
          ]
        },
        {
          "name": "stdout",
          "output_type": "stream",
          "text": [
            "Index of 0 in tuple: 3\n"
          ]
        }
      ],
      "source": [
        "# Write a program to find index of an element in a tuple using index().\n",
        "\n",
        "t = tuple(map(int, input(\"Enter tuple elements separated by space: \").split()))\n",
        "element = int(input(\"Enter element to find index: \"))\n",
        "\n",
        "try:\n",
        "    idx = t.index(element)\n",
        "    print(f\"Index of {element} in tuple: {idx}\")\n",
        "except ValueError:\n",
        "    print(f\"{element} is not in the tuple\")"
      ]
    },
    {
      "cell_type": "code",
      "execution_count": null,
      "id": "8dd8302a-7d37-43bb-ab82-d5fbe611f8de",
      "metadata": {
        "id": "8dd8302a-7d37-43bb-ab82-d5fbe611f8de",
        "outputId": "fed26151-a327-4800-87b8-fcafb393bbb8"
      },
      "outputs": [
        {
          "name": "stdin",
          "output_type": "stream",
          "text": [
            "Enter tuple elements separated by space:  101 522 696 985 9898645\n"
          ]
        },
        {
          "name": "stdout",
          "output_type": "stream",
          "text": [
            "Ascending order: (101, 522, 696, 985, 9898645)\n",
            "Descending order: (9898645, 985, 696, 522, 101)\n"
          ]
        }
      ],
      "source": [
        "# Write a program to sort a tuple in ascending and descending order.\n",
        "\n",
        "t = tuple(map(int, input(\"Enter tuple elements separated by space: \").split()))\n",
        "\n",
        "asc = tuple(sorted(t))\n",
        "desc = tuple(sorted(t, reverse=True))\n",
        "\n",
        "print(f\"Ascending order: {asc}\")\n",
        "print(f\"Descending order: {desc}\")"
      ]
    },
    {
      "cell_type": "code",
      "execution_count": null,
      "id": "f5e1bfae-8b50-4f62-ab58-89cbccdfa1a1",
      "metadata": {
        "id": "f5e1bfae-8b50-4f62-ab58-89cbccdfa1a1",
        "outputId": "2200ae3f-8e27-49c1-e401-9d331deddb72"
      },
      "outputs": [
        {
          "name": "stdin",
          "output_type": "stream",
          "text": [
            "Enter tuple of tuples (e.g. ((1, 'a'), (2, 'b'))):  ((1, 'a'), (2, 'b'), (3, 'c'))\n"
          ]
        },
        {
          "name": "stdout",
          "output_type": "stream",
          "text": [
            "Dictionary: {1: 'a', 2: 'b', 3: 'c'}\n"
          ]
        }
      ],
      "source": [
        "# Write a program to convert tuple of tuples to dictionary.\n",
        "\n",
        "t = tuple(eval(input(\"Enter tuple of tuples (e.g. ((1, 'a'), (2, 'b'))): \")))\n",
        "\n",
        "d = dict(t)\n",
        "print(f\"Dictionary: {d}\")\n"
      ]
    },
    {
      "cell_type": "code",
      "execution_count": null,
      "id": "f5618af6-aa92-4be0-9655-1f3a595add39",
      "metadata": {
        "id": "f5618af6-aa92-4be0-9655-1f3a595add39",
        "outputId": "95fc5c4d-30e7-4590-9272-27ebef461fd5"
      },
      "outputs": [
        {
          "name": "stdin",
          "output_type": "stream",
          "text": [
            "Enter tuple elements separated by space:  11 22 11 22 11 22 33 33 \n"
          ]
        },
        {
          "name": "stdout",
          "output_type": "stream",
          "text": [
            "Duplicate elements: (33, 11, 22)\n"
          ]
        }
      ],
      "source": [
        "# Write a program to find duplicate elements in a tuple.\n",
        "\n",
        "t = tuple(map(int, input(\"Enter tuple elements separated by space: \").split()))\n",
        "\n",
        "duplicates = set()\n",
        "seen = set()\n",
        "for x in t:\n",
        "    if x in seen:\n",
        "        duplicates.add(x)\n",
        "    else:\n",
        "        seen.add(x)\n",
        "\n",
        "print(f\"Duplicate elements: {tuple(duplicates)}\")"
      ]
    },
    {
      "cell_type": "code",
      "execution_count": null,
      "id": "cd7a5857-a380-45bd-a6ab-e337c69cc37d",
      "metadata": {
        "id": "cd7a5857-a380-45bd-a6ab-e337c69cc37d",
        "outputId": "884fa0e6-c2d0-463d-cfd7-787b0ff249e2"
      },
      "outputs": [
        {
          "name": "stdin",
          "output_type": "stream",
          "text": [
            "Enter first tuple elements separated by space:  33 65 95\n",
            "Enter second tuple elements separated by space:  54 985 9\n"
          ]
        },
        {
          "name": "stdout",
          "output_type": "stream",
          "text": [
            "Tuples are not equal\n"
          ]
        }
      ],
      "source": [
        "# Write a program to check if two tuples are equal.\n",
        "\n",
        "t1 = tuple(map(int, input(\"Enter first tuple elements separated by space: \").split()))\n",
        "t2 = tuple(map(int, input(\"Enter second tuple elements separated by space: \").split()))\n",
        "\n",
        "if t1 == t2:\n",
        "    print(\"Tuples are equal\")\n",
        "else:\n",
        "    print(\"Tuples are not equal\")"
      ]
    },
    {
      "cell_type": "code",
      "execution_count": null,
      "id": "323838d3-1f82-4789-8672-b1dedb0b55d5",
      "metadata": {
        "id": "323838d3-1f82-4789-8672-b1dedb0b55d5",
        "outputId": "558dc53d-a3bf-412f-a121-4fee5bc43c35"
      },
      "outputs": [
        {
          "name": "stdin",
          "output_type": "stream",
          "text": [
            "Enter tuple elements separated by space:  99 66 5 54 458 95 99 66 5\n"
          ]
        },
        {
          "name": "stdout",
          "output_type": "stream",
          "text": [
            "Tuple after removing duplicates: (66, 99, 5, 458, 54, 95)\n"
          ]
        }
      ],
      "source": [
        "# Write a program to remove duplicates from a tuple by converting to set.\n",
        "\n",
        "t = tuple(map(int, input(\"Enter tuple elements separated by space: \").split()))\n",
        "\n",
        "t_no_duplicates = tuple(set(t))\n",
        "\n",
        "print(f\"Tuple after removing duplicates: {t_no_duplicates}\")"
      ]
    },
    {
      "cell_type": "code",
      "execution_count": null,
      "id": "4915b4e4-5cae-46b9-a681-de0f37ee2788",
      "metadata": {
        "id": "4915b4e4-5cae-46b9-a681-de0f37ee2788",
        "outputId": "6cb0b512-7192-4ba5-a5c7-1e045982826b"
      },
      "outputs": [
        {
          "name": "stdin",
          "output_type": "stream",
          "text": [
            "Enter number of tuples to merge:  4\n",
            "Enter tuple 1 elements separated by space:  3 44 \n",
            "Enter tuple 2 elements separated by space:  55 6\n",
            "Enter tuple 3 elements separated by space:  11 3\n",
            "Enter tuple 4 elements separated by space:  77 0\n"
          ]
        },
        {
          "name": "stdout",
          "output_type": "stream",
          "text": [
            "Merged tuple: (3, 44, 55, 6, 11, 3, 77, 0)\n"
          ]
        }
      ],
      "source": [
        "# Write a program to merge multiple tuples into one.\n",
        "\n",
        "n = int(input(\"Enter number of tuples to merge: \"))\n",
        "merged = ()\n",
        "\n",
        "for i in range(n):\n",
        "    t = tuple(map(int, input(f\"Enter tuple {i+1} elements separated by space: \").split()))\n",
        "    merged += t\n",
        "\n",
        "print(f\"Merged tuple: {merged}\")\n"
      ]
    },
    {
      "cell_type": "code",
      "execution_count": null,
      "id": "345864fb-2f76-4464-94ec-6def39df7c51",
      "metadata": {
        "id": "345864fb-2f76-4464-94ec-6def39df7c51",
        "outputId": "431787c2-d4fd-4c68-822d-a1a31eb532c7"
      },
      "outputs": [
        {
          "name": "stdin",
          "output_type": "stream",
          "text": [
            "Enter first tuple elements separated by space:  99 66 00 5\n",
            "Enter second tuple elements separated by space:  63 4 8 9\n"
          ]
        },
        {
          "name": "stdout",
          "output_type": "stream",
          "text": [
            "Element-wise sum: (162, 70, 8, 14)\n"
          ]
        }
      ],
      "source": [
        "# Write a program to find the element-wise sum of two tuples.\n",
        "\n",
        "t1 = tuple(map(int, input(\"Enter first tuple elements separated by space: \").split()))\n",
        "t2 = tuple(map(int, input(\"Enter second tuple elements separated by space: \").split()))\n",
        "\n",
        "if len(t1) != len(t2):\n",
        "    print(\"Tuples must be of the same length.\")\n",
        "else:\n",
        "    summed = tuple(a + b for a, b in zip(t1, t2))\n",
        "    print(f\"Element-wise sum: {summed}\")\n"
      ]
    },
    {
      "cell_type": "code",
      "execution_count": null,
      "id": "0658ac07-9897-4d57-8d27-fec93e795e37",
      "metadata": {
        "id": "0658ac07-9897-4d57-8d27-fec93e795e37",
        "outputId": "5d34c25d-fa32-4888-bdb5-a10e018efd9c"
      },
      "outputs": [
        {
          "name": "stdin",
          "output_type": "stream",
          "text": [
            "Enter tuple elements separated by space:  1 4 5 89 96\n"
          ]
        },
        {
          "name": "stdout",
          "output_type": "stream",
          "text": [
            "Tuple is not palindrome\n"
          ]
        }
      ],
      "source": [
        "# Write a program to check if a tuple is palindrome (same forward and backward).\n",
        "t = tuple(map(int, input(\"Enter tuple elements separated by space: \").split()))\n",
        "if t == t[::-1]:\n",
        "    print(\"Tuple is palindrome\")\n",
        "else:\n",
        "    print(\"Tuple is not palindrome\")"
      ]
    }
  ],
  "metadata": {
    "kernelspec": {
      "display_name": "Python 3 (ipykernel)",
      "language": "python",
      "name": "python3"
    },
    "language_info": {
      "codemirror_mode": {
        "name": "ipython",
        "version": 3
      },
      "file_extension": ".py",
      "mimetype": "text/x-python",
      "name": "python",
      "nbconvert_exporter": "python",
      "pygments_lexer": "ipython3",
      "version": "3.12.4"
    },
    "colab": {
      "provenance": [],
      "include_colab_link": true
    }
  },
  "nbformat": 4,
  "nbformat_minor": 5
}