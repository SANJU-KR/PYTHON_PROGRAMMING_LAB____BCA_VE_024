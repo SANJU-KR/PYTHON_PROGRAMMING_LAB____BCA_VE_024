{
  "nbformat": 4,
  "nbformat_minor": 0,
  "metadata": {
    "colab": {
      "provenance": [],
      "authorship_tag": "ABX9TyOmSyVQAPhSUbtXRCcGisYe"
    },
    "kernelspec": {
      "name": "python3",
      "display_name": "Python 3"
    },
    "language_info": {
      "name": "python"
    }
  },
  "cells": [
    {
      "cell_type": "code",
      "execution_count": 1,
      "metadata": {
        "colab": {
          "base_uri": "https://localhost:8080/"
        },
        "id": "xSSysn2YNxbM",
        "outputId": "7fb5b111-0069-4806-a94c-8bc68d06d6ec"
      },
      "outputs": [
        {
          "output_type": "stream",
          "name": "stdout",
          "text": [
            "Enter your age: 18\n",
            "You are eligible to vote.\n"
          ]
        }
      ],
      "source": [
        "# Write a program to determine if a person is eligible to vote based on age\n",
        "\n",
        "age = int(input(\"Enter your age: \"))\n",
        "if age >= 18:\n",
        "    print(\"You are eligible to vote.\")\n",
        "else:\n",
        "    print(\"You are not eligible to vote.\")"
      ]
    },
    {
      "cell_type": "code",
      "source": [
        "# Write a program to find the largest of three numbers\n",
        "\n",
        "a = float(input(\"Enter first number: \"))\n",
        "b = float(input(\"Enter second number: \"))\n",
        "c = float(input(\"Enter third number: \"))\n",
        "print(\"The largest number is:\", max(a, b, c))"
      ],
      "metadata": {
        "colab": {
          "base_uri": "https://localhost:8080/"
        },
        "id": "mff_5j3gOsYR",
        "outputId": "1a913308-8d15-4dc8-a335-c6038671134b"
      },
      "execution_count": 2,
      "outputs": [
        {
          "output_type": "stream",
          "name": "stdout",
          "text": [
            "Enter first number: 23.3\n",
            "Enter second number: 24.1\n",
            "Enter third number: 23.06\n",
            "The largest number is: 24.1\n"
          ]
        }
      ]
    },
    {
      "cell_type": "code",
      "source": [
        "# Write a program to convert the first character to uppercase and the rest to lowercase\n",
        "\n",
        "s = input(\"Enter a string: \")\n",
        "print(\"Capitalized string:\", s.capitalize())"
      ],
      "metadata": {
        "colab": {
          "base_uri": "https://localhost:8080/"
        },
        "id": "3IXKFFiRQLZS",
        "outputId": "4315102c-ec39-41e4-8f5c-9fd20b857731"
      },
      "execution_count": 3,
      "outputs": [
        {
          "output_type": "stream",
          "name": "stdout",
          "text": [
            "Enter a string: hello World\n",
            "Capitalized string: Hello world\n"
          ]
        }
      ]
    },
    {
      "cell_type": "code",
      "source": [
        "# Write a program to convert all characters to lowercase (more aggressive than lower())\n",
        "\n",
        "s = input(\"Enter a string: \")\n",
        "print(\"Casefolded string:\", s.casefold())"
      ],
      "metadata": {
        "colab": {
          "base_uri": "https://localhost:8080/"
        },
        "id": "rDnfNuWuS4uR",
        "outputId": "26e14245-ef76-4ddb-e5ff-8879dad39f06"
      },
      "execution_count": 4,
      "outputs": [
        {
          "output_type": "stream",
          "name": "stdout",
          "text": [
            "Enter a string: SANJU KUMAR\n",
            "Casefolded string: sanju kumar\n"
          ]
        }
      ]
    },
    {
      "cell_type": "code",
      "source": [
        "# Write a program to center the string in a field of given width\n",
        "\n",
        "s = input(\"Enter a string: \")\n",
        "w = int(input(\"Enter total width: \"))\n",
        "print(\"Centered string:\", s.center(w))"
      ],
      "metadata": {
        "colab": {
          "base_uri": "https://localhost:8080/"
        },
        "id": "VIlyAA4aTDr7",
        "outputId": "1536a220-b466-4827-c6fb-646c38c65c59"
      },
      "execution_count": 5,
      "outputs": [
        {
          "output_type": "stream",
          "name": "stdout",
          "text": [
            "Enter a string: Sanju K\n",
            "Enter total width: 5\n",
            "Centered string: Sanju K\n"
          ]
        }
      ]
    },
    {
      "cell_type": "code",
      "source": [
        "# Write a program to count how many times a substring appears in the string\n",
        "\n",
        "s = input(\"Enter a string: \")\n",
        "ch = input(\"Enter the substring to count: \")\n",
        "print(\"Count:\", s.count(ch))"
      ],
      "metadata": {
        "colab": {
          "base_uri": "https://localhost:8080/"
        },
        "id": "ZzQrSEA1TxHU",
        "outputId": "36122a38-2c77-494f-fd63-ba98bf311904"
      },
      "execution_count": 6,
      "outputs": [
        {
          "output_type": "stream",
          "name": "stdout",
          "text": [
            "Enter a string: BANANA\n",
            "Enter the substring to count: A\n",
            "Count: 3\n"
          ]
        }
      ]
    },
    {
      "cell_type": "code",
      "source": [
        "# Write a program to check if the string ends with a given suffix\n",
        "\n",
        "s = input(\"Enter a string: \")\n",
        "suffix = input(\"Enter the suffix to check: \")\n",
        "print(\"Ends with given suffix?\", s.endswith(suffix))"
      ],
      "metadata": {
        "colab": {
          "base_uri": "https://localhost:8080/"
        },
        "id": "rOdAuufTUCLO",
        "outputId": "176547ad-ae47-4735-8cd1-341deb3fdcc7"
      },
      "execution_count": 7,
      "outputs": [
        {
          "output_type": "stream",
          "name": "stdout",
          "text": [
            "Enter a string: Dancing\n",
            "Enter the suffix to check: ing\n",
            "Ends with given suffix? True\n"
          ]
        }
      ]
    },
    {
      "cell_type": "code",
      "source": [
        "# Write a program to replace tab characters '\\t' with spaces of given tab size\n",
        "\n",
        "s = input(\"Enter a string with tabs: \")\n",
        "n = int(input(\"Enter tab size: \"))\n",
        "print(\"Expanded string:\", s.expandtabs(n))"
      ],
      "metadata": {
        "colab": {
          "base_uri": "https://localhost:8080/"
        },
        "id": "tznZnTG7Uk60",
        "outputId": "951bb016-bed3-45a8-fb4e-ebbf54378056"
      },
      "execution_count": 16,
      "outputs": [
        {
          "output_type": "stream",
          "name": "stdout",
          "text": [
            "Enter a string with tabs: AA\\tBB\\tCC\n",
            "Enter tab size: 8\n",
            "Expanded string: AA\\tBB\\tCC\n"
          ]
        }
      ]
    },
    {
      "cell_type": "code",
      "source": [
        "# Write a program to find the first occurrence of a substring, return index or -1\n",
        "\n",
        "s = input(\"Enter a string: \")\n",
        "val = input(\"Enter substring to find: \")\n",
        "print(\"Index of substring:\", s.find(val))"
      ],
      "metadata": {
        "colab": {
          "base_uri": "https://localhost:8080/"
        },
        "id": "UFgLxTXxbaln",
        "outputId": "6e007e38-7ba0-439d-ceb4-64cb926528e4"
      },
      "execution_count": 18,
      "outputs": [
        {
          "output_type": "stream",
          "name": "stdout",
          "text": [
            "Enter a string: Apple is Sweet\n",
            "Enter substring to find: is\n",
            "Index of substring: 6\n"
          ]
        }
      ]
    },
    {
      "cell_type": "code",
      "source": [
        "# Write a program to format string using placeholder {}\n",
        "\n",
        "name = input(\"Enter your name: \")\n",
        "print(\"Hello, {}\".format(name))"
      ],
      "metadata": {
        "colab": {
          "base_uri": "https://localhost:8080/"
        },
        "id": "gscEqa2ncAyw",
        "outputId": "74f28997-12f7-4a71-a841-f65036993a72"
      },
      "execution_count": 19,
      "outputs": [
        {
          "output_type": "stream",
          "name": "stdout",
          "text": [
            "Enter your name: Gunjan\n",
            "Hello, Gunjan\n"
          ]
        }
      ]
    },
    {
      "cell_type": "code",
      "source": [
        "# Write a program to format string using a dictionary\n",
        "\n",
        "name = input(\"Enter your name: \")\n",
        "print(\"Welcome, {name}\".format_map({\"name\": name}))"
      ],
      "metadata": {
        "colab": {
          "base_uri": "https://localhost:8080/"
        },
        "id": "uGAgO99FcV97",
        "outputId": "3009f2cc-53fc-42f1-cdc1-8d259f456fd4"
      },
      "execution_count": 20,
      "outputs": [
        {
          "output_type": "stream",
          "name": "stdout",
          "text": [
            "Enter your name: Sanju\n",
            "Welcome, Sanju\n"
          ]
        }
      ]
    },
    {
      "cell_type": "code",
      "source": [
        "# Write a program to find the index of a substring, raise error if not found\n",
        "\n",
        "s = input(\"Enter a string: \")\n",
        "ch = input(\"Enter character to find: \")\n",
        "print(\"Index of character:\", s.index(ch))"
      ],
      "metadata": {
        "colab": {
          "base_uri": "https://localhost:8080/"
        },
        "id": "yZziKIO9cjM7",
        "outputId": "996edb2e-70bc-45aa-e282-8458e993e522"
      },
      "execution_count": 21,
      "outputs": [
        {
          "output_type": "stream",
          "name": "stdout",
          "text": [
            "Enter a string: Sanju Kumar\n",
            "Enter character to find: a\n",
            "Index of character: 1\n"
          ]
        }
      ]
    },
    {
      "cell_type": "code",
      "source": [
        "# Write a program to check if the string has only alphanumeric characters\n",
        "\n",
        "s = input(\"Enter a string: \")\n",
        "print(\"Is alphanumeric?\", s.isalnum())"
      ],
      "metadata": {
        "colab": {
          "base_uri": "https://localhost:8080/"
        },
        "id": "s0-wkttldESH",
        "outputId": "2e8297db-d672-4dac-d94e-df435a1e8eaf"
      },
      "execution_count": 22,
      "outputs": [
        {
          "output_type": "stream",
          "name": "stdout",
          "text": [
            "Enter a string: Sanju28\n",
            "Is alphanumeric? True\n"
          ]
        }
      ]
    },
    {
      "cell_type": "code",
      "source": [
        "# Write a program to check if the string contains only alphabet letters\n",
        "\n",
        "s = input(\"Enter a string: \")\n",
        "print(\"Is alphabetic?\", s.isalpha())"
      ],
      "metadata": {
        "colab": {
          "base_uri": "https://localhost:8080/"
        },
        "id": "dV8YwBfldIrM",
        "outputId": "6c55e1a2-fbfc-416c-c9a7-ae7744837d8f"
      },
      "execution_count": 23,
      "outputs": [
        {
          "output_type": "stream",
          "name": "stdout",
          "text": [
            "Enter a string: Sanju\n",
            "Is alphabetic? True\n"
          ]
        }
      ]
    }
  ]
}